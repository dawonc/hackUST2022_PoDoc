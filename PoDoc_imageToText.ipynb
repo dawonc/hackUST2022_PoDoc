{
 "cells": [
  {
   "cell_type": "code",
   "execution_count": 24,
   "metadata": {},
   "outputs": [
    {
     "name": "stdout",
     "output_type": "stream",
     "text": [
      "Requirement already satisfied: torch in /Users/jacobkwak/opt/miniconda3/lib/python3.8/site-packages (1.11.0)\n",
      "Requirement already satisfied: torchvision in /Users/jacobkwak/opt/miniconda3/lib/python3.8/site-packages (0.12.0)\n",
      "Requirement already satisfied: torchaudio in /Users/jacobkwak/opt/miniconda3/lib/python3.8/site-packages (0.11.0)\n",
      "Requirement already satisfied: typing-extensions in /Users/jacobkwak/opt/miniconda3/lib/python3.8/site-packages (from torch) (4.1.1)\n",
      "Requirement already satisfied: requests in /Users/jacobkwak/opt/miniconda3/lib/python3.8/site-packages (from torchvision) (2.24.0)\n",
      "Requirement already satisfied: pillow!=8.3.*,>=5.3.0 in /Users/jacobkwak/opt/miniconda3/lib/python3.8/site-packages (from torchvision) (8.2.0)\n",
      "Requirement already satisfied: numpy in /Users/jacobkwak/.local/lib/python3.8/site-packages (from torchvision) (1.19.4)\n",
      "Requirement already satisfied: certifi>=2017.4.17 in /Users/jacobkwak/opt/miniconda3/lib/python3.8/site-packages (from requests->torchvision) (2020.12.5)\n",
      "Requirement already satisfied: urllib3!=1.25.0,!=1.25.1,<1.26,>=1.21.1 in /Users/jacobkwak/opt/miniconda3/lib/python3.8/site-packages (from requests->torchvision) (1.25.11)\n",
      "Requirement already satisfied: idna<3,>=2.5 in /Users/jacobkwak/opt/miniconda3/lib/python3.8/site-packages (from requests->torchvision) (2.10)\n",
      "Requirement already satisfied: chardet<4,>=3.0.2 in /Users/jacobkwak/opt/miniconda3/lib/python3.8/site-packages (from requests->torchvision) (3.0.4)\n",
      "Requirement already satisfied: easyocr in /Users/jacobkwak/opt/miniconda3/lib/python3.8/site-packages (1.4.1)\n",
      "Requirement already satisfied: Pillow<8.3.0 in /Users/jacobkwak/opt/miniconda3/lib/python3.8/site-packages (from easyocr) (8.2.0)\n",
      "Requirement already satisfied: scikit-image in /Users/jacobkwak/opt/miniconda3/lib/python3.8/site-packages (from easyocr) (0.19.2)\n",
      "Requirement already satisfied: scipy in /Users/jacobkwak/opt/miniconda3/lib/python3.8/site-packages (from easyocr) (1.8.0)\n",
      "Requirement already satisfied: numpy in /Users/jacobkwak/.local/lib/python3.8/site-packages (from easyocr) (1.19.4)\n",
      "Requirement already satisfied: opencv-python-headless in /Users/jacobkwak/opt/miniconda3/lib/python3.8/site-packages (from easyocr) (4.5.5.64)\n",
      "Requirement already satisfied: python-bidi in /Users/jacobkwak/opt/miniconda3/lib/python3.8/site-packages (from easyocr) (0.4.2)\n",
      "Requirement already satisfied: torchvision>=0.5 in /Users/jacobkwak/opt/miniconda3/lib/python3.8/site-packages (from easyocr) (0.12.0)\n",
      "Requirement already satisfied: PyYAML in /Users/jacobkwak/opt/miniconda3/lib/python3.8/site-packages (from easyocr) (6.0)\n",
      "Requirement already satisfied: torch in /Users/jacobkwak/opt/miniconda3/lib/python3.8/site-packages (from easyocr) (1.11.0)\n",
      "Requirement already satisfied: tifffile>=2019.7.26 in /Users/jacobkwak/opt/miniconda3/lib/python3.8/site-packages (from scikit-image->easyocr) (2022.3.25)\n",
      "Requirement already satisfied: imageio>=2.4.1 in /Users/jacobkwak/opt/miniconda3/lib/python3.8/site-packages (from scikit-image->easyocr) (2.16.1)\n",
      "Requirement already satisfied: packaging>=20.0 in /Users/jacobkwak/opt/miniconda3/lib/python3.8/site-packages (from scikit-image->easyocr) (20.8)\n",
      "Requirement already satisfied: networkx>=2.2 in /Users/jacobkwak/opt/miniconda3/lib/python3.8/site-packages (from scikit-image->easyocr) (2.7.1)\n",
      "Requirement already satisfied: PyWavelets>=1.1.1 in /Users/jacobkwak/opt/miniconda3/lib/python3.8/site-packages (from scikit-image->easyocr) (1.3.0)\n",
      "Requirement already satisfied: six in /Users/jacobkwak/opt/miniconda3/lib/python3.8/site-packages (from python-bidi->easyocr) (1.15.0)\n",
      "Requirement already satisfied: typing-extensions in /Users/jacobkwak/opt/miniconda3/lib/python3.8/site-packages (from torchvision>=0.5->easyocr) (4.1.1)\n",
      "Requirement already satisfied: requests in /Users/jacobkwak/opt/miniconda3/lib/python3.8/site-packages (from torchvision>=0.5->easyocr) (2.24.0)\n",
      "Requirement already satisfied: pyparsing>=2.0.2 in /Users/jacobkwak/opt/miniconda3/lib/python3.8/site-packages (from packaging>=20.0->scikit-image->easyocr) (2.4.7)\n",
      "Requirement already satisfied: chardet<4,>=3.0.2 in /Users/jacobkwak/opt/miniconda3/lib/python3.8/site-packages (from requests->torchvision>=0.5->easyocr) (3.0.4)\n",
      "Requirement already satisfied: urllib3!=1.25.0,!=1.25.1,<1.26,>=1.21.1 in /Users/jacobkwak/opt/miniconda3/lib/python3.8/site-packages (from requests->torchvision>=0.5->easyocr) (1.25.11)\n",
      "Requirement already satisfied: certifi>=2017.4.17 in /Users/jacobkwak/opt/miniconda3/lib/python3.8/site-packages (from requests->torchvision>=0.5->easyocr) (2020.12.5)\n",
      "Requirement already satisfied: idna<3,>=2.5 in /Users/jacobkwak/opt/miniconda3/lib/python3.8/site-packages (from requests->torchvision>=0.5->easyocr) (2.10)\n"
     ]
    }
   ],
   "source": [
    "# Install PyTorch\n",
    "!pip3 install torch torchvision torchaudio\n",
    "\n",
    "# Install EasyOCR\n",
    "!pip install easyocr"
   ]
  },
  {
   "cell_type": "code",
   "execution_count": 25,
   "metadata": {},
   "outputs": [
    {
     "name": "stdout",
     "output_type": "stream",
     "text": [
      "Requirement already satisfied: easyocr in /Users/jacobkwak/opt/anaconda3/lib/python3.8/site-packages (1.4.2)\n",
      "Requirement already satisfied: scikit-image in /Users/jacobkwak/opt/anaconda3/lib/python3.8/site-packages (from easyocr) (0.17.2)\n",
      "Requirement already satisfied: python-bidi in /Users/jacobkwak/opt/anaconda3/lib/python3.8/site-packages (from easyocr) (0.4.2)\n",
      "Requirement already satisfied: opencv-python-headless<=4.5.4.60 in /Users/jacobkwak/opt/anaconda3/lib/python3.8/site-packages (from easyocr) (4.5.4.60)\n",
      "Requirement already satisfied: torchvision>=0.5 in /Users/jacobkwak/opt/anaconda3/lib/python3.8/site-packages (from easyocr) (0.12.0)\n",
      "Requirement already satisfied: PyYAML in /Users/jacobkwak/opt/anaconda3/lib/python3.8/site-packages (from easyocr) (5.3.1)\n",
      "Requirement already satisfied: Pillow in /Users/jacobkwak/opt/anaconda3/lib/python3.8/site-packages (from easyocr) (8.0.1)\n",
      "Requirement already satisfied: torch in /Users/jacobkwak/opt/anaconda3/lib/python3.8/site-packages (from easyocr) (1.11.0)\n",
      "Requirement already satisfied: numpy in /Users/jacobkwak/.local/lib/python3.8/site-packages (from easyocr) (1.19.4)\n",
      "Requirement already satisfied: scipy in /Users/jacobkwak/opt/anaconda3/lib/python3.8/site-packages (from easyocr) (1.5.2)\n",
      "Requirement already satisfied: typing-extensions in /Users/jacobkwak/opt/anaconda3/lib/python3.8/site-packages (from torchvision>=0.5->easyocr) (3.7.4.3)\n",
      "Requirement already satisfied: requests in /Users/jacobkwak/opt/anaconda3/lib/python3.8/site-packages (from torchvision>=0.5->easyocr) (2.24.0)\n",
      "Requirement already satisfied: six in /Users/jacobkwak/opt/anaconda3/lib/python3.8/site-packages (from python-bidi->easyocr) (1.15.0)\n",
      "Requirement already satisfied: certifi>=2017.4.17 in /Users/jacobkwak/opt/anaconda3/lib/python3.8/site-packages (from requests->torchvision>=0.5->easyocr) (2020.6.20)\n",
      "Requirement already satisfied: urllib3!=1.25.0,!=1.25.1,<1.26,>=1.21.1 in /Users/jacobkwak/opt/anaconda3/lib/python3.8/site-packages (from requests->torchvision>=0.5->easyocr) (1.25.11)\n",
      "Requirement already satisfied: idna<3,>=2.5 in /Users/jacobkwak/opt/anaconda3/lib/python3.8/site-packages (from requests->torchvision>=0.5->easyocr) (2.10)\n",
      "Requirement already satisfied: chardet<4,>=3.0.2 in /Users/jacobkwak/opt/anaconda3/lib/python3.8/site-packages (from requests->torchvision>=0.5->easyocr) (3.0.4)\n",
      "Requirement already satisfied: matplotlib!=3.0.0,>=2.0.0 in /Users/jacobkwak/opt/anaconda3/lib/python3.8/site-packages (from scikit-image->easyocr) (3.3.2)\n",
      "Requirement already satisfied: networkx>=2.0 in /Users/jacobkwak/opt/anaconda3/lib/python3.8/site-packages (from scikit-image->easyocr) (2.5)\n",
      "Requirement already satisfied: imageio>=2.3.0 in /Users/jacobkwak/opt/anaconda3/lib/python3.8/site-packages (from scikit-image->easyocr) (2.9.0)\n",
      "Requirement already satisfied: tifffile>=2019.7.26 in /Users/jacobkwak/opt/anaconda3/lib/python3.8/site-packages (from scikit-image->easyocr) (2020.10.1)\n",
      "Requirement already satisfied: PyWavelets>=1.1.1 in /Users/jacobkwak/opt/anaconda3/lib/python3.8/site-packages (from scikit-image->easyocr) (1.1.1)\n",
      "Requirement already satisfied: cycler>=0.10 in /Users/jacobkwak/opt/anaconda3/lib/python3.8/site-packages (from matplotlib!=3.0.0,>=2.0.0->scikit-image->easyocr) (0.10.0)\n",
      "Requirement already satisfied: pyparsing!=2.0.4,!=2.1.2,!=2.1.6,>=2.0.3 in /Users/jacobkwak/opt/anaconda3/lib/python3.8/site-packages (from matplotlib!=3.0.0,>=2.0.0->scikit-image->easyocr) (2.4.7)\n",
      "Requirement already satisfied: kiwisolver>=1.0.1 in /Users/jacobkwak/opt/anaconda3/lib/python3.8/site-packages (from matplotlib!=3.0.0,>=2.0.0->scikit-image->easyocr) (1.3.0)\n",
      "Requirement already satisfied: python-dateutil>=2.1 in /Users/jacobkwak/opt/anaconda3/lib/python3.8/site-packages (from matplotlib!=3.0.0,>=2.0.0->scikit-image->easyocr) (2.8.1)\n",
      "Requirement already satisfied: decorator>=4.3.0 in /Users/jacobkwak/opt/anaconda3/lib/python3.8/site-packages (from networkx>=2.0->scikit-image->easyocr) (4.4.2)\n",
      "\u001b[33mWARNING: You are using pip version 20.3.3; however, version 22.0.4 is available.\n",
      "You should consider upgrading via the '/Users/jacobkwak/opt/anaconda3/bin/python -m pip install --upgrade pip' command.\u001b[0m\n",
      "Note: you may need to restart the kernel to use updated packages.\n"
     ]
    }
   ],
   "source": [
    "pip install easyocr"
   ]
  },
  {
   "cell_type": "code",
   "execution_count": 26,
   "metadata": {},
   "outputs": [],
   "source": [
    "# Import Necessary Libraries\n",
    "import easyocr\n",
    "import cv2\n",
    "from matplotlib import pyplot as plt\n",
    "import numpy as np"
   ]
  },
  {
   "cell_type": "code",
   "execution_count": 27,
   "metadata": {},
   "outputs": [],
   "source": [
    "# Save image path\n",
    "IMAGE_PATH = \"/Users/jacobkwak/Desktop/run.png\""
   ]
  },
  {
   "cell_type": "code",
   "execution_count": 28,
   "metadata": {},
   "outputs": [
    {
     "name": "stderr",
     "output_type": "stream",
     "text": [
      "Using CPU. Note: This module is much faster with a GPU.\n"
     ]
    },
    {
     "name": "stdout",
     "output_type": "stream",
     "text": [
      "12.00\n",
      "0.7036957399635634\n",
      "\n",
      "Wed, 3/18/15\n",
      "0.9647776166994764\n",
      "\n",
      "139\n",
      "0.9465674757957458\n",
      "\n",
      "Google\n",
      "0.9999535227830813\n",
      "\n",
      "Running\n",
      "0.9583738366380637\n",
      "\n",
      "4,51\n",
      "0.9994948002809347\n",
      "\n",
      "00.35.46\n",
      "0.5169349582471129\n",
      "\n",
      "415\n",
      "0.9999998623489704\n",
      "\n",
      "Distance (mi)\n",
      "0.999965654381826\n",
      "\n",
      "Duration\n",
      "0.9999935936705264\n",
      "\n",
      "Calories\n",
      "0.8491315439603495\n",
      "\n",
      "Pace\n",
      "0.9999499320983887\n",
      "\n",
      "07:55 min/mi\n",
      "0.654581365267226\n",
      "\n",
      "vaBle\n",
      "0.42371763647129146\n",
      "\n",
      "1\n",
      "0.409140592147228\n",
      "\n",
      "Avg:\n",
      "0.8688901662826538\n",
      "\n"
     ]
    }
   ],
   "source": [
    "# Read image as english\n",
    "reader = easyocr.Reader(['en'], gpu=False)\n",
    "resultEng = reader.readtext(IMAGE_PATH)\n",
    "resultSize = len(resultEng)\n",
    "\n",
    "# Print the words and accuracy\n",
    "for i in range(resultSize):\n",
    "    print(resultEng[i][1])\n",
    "    print(resultEng[i][2])\n",
    "    print(\"\")"
   ]
  },
  {
   "cell_type": "code",
   "execution_count": 29,
   "metadata": {},
   "outputs": [
    {
     "name": "stderr",
     "output_type": "stream",
     "text": [
      "Using CPU. Note: This module is much faster with a GPU.\n"
     ]
    },
    {
     "name": "stdout",
     "output_type": "stream",
     "text": [
      "12:00\n",
      "0.9960313226560198\n",
      "\n",
      "「。4, 3/18/15\n",
      "0.0057734947326588265\n",
      "\n",
      "139\n",
      "0.999664483154187\n",
      "\n",
      "@8\n",
      "0.16231619602251537\n",
      "\n",
      "尺49\n",
      "0.002915571399931384\n",
      "\n",
      "4,51\n",
      "0.8804710815031197\n",
      "\n",
      "00:35:46\n",
      "0.9179577364485606\n",
      "\n",
      "415\n",
      "0.9999794211992603\n",
      "\n",
      "0$+42。 ()\n",
      "0.00012751710187659996\n",
      "\n",
      "04几\n",
      "0.0002094029950574292\n",
      "\n",
      "@;2$\n",
      "0.0005063933203928173\n",
      "\n",
      "@\n",
      "0.004635833028708625\n",
      "\n",
      "07:55 黛/;\n",
      "0.030245386273352992\n",
      "\n",
      "88@\n",
      "0.0006995939844458091\n",
      "\n",
      "|\n",
      "0.11219066402132771\n",
      "\n",
      "9\n",
      "0.9456336499490625\n",
      "\n"
     ]
    }
   ],
   "source": [
    "# Read image as simplified chinese\n",
    "reader = easyocr.Reader(['ch_sim'], gpu=False)\n",
    "resultChSim = reader.readtext(IMAGE_PATH)\n",
    "resultSize = len(resultChSim)\n",
    "\n",
    "# Print the words and accuracy \n",
    "for i in range(resultSize):\n",
    "    print(resultChSim[i][1])\n",
    "    print(resultChSim[i][2])\n",
    "    print(\"\")"
   ]
  },
  {
   "cell_type": "code",
   "execution_count": 30,
   "metadata": {},
   "outputs": [
    {
     "name": "stderr",
     "output_type": "stream",
     "text": [
      "Using CPU. Note: This module is much faster with a GPU.\n"
     ]
    },
    {
     "name": "stdout",
     "output_type": "stream",
     "text": [
      "12:00\n",
      "0.6919972220900243\n",
      "\n",
      "\"=0,3/18/15\n",
      "0.002537264428675945\n",
      "\n",
      "139\n",
      "0.9984872309063856\n",
      "\n",
      "66%9|~\n",
      "0.0002511472752577585\n",
      "\n",
      "巳山口志9\n",
      "7.223430383277487e-08\n",
      "\n",
      "4,51\n",
      "0.5936226834324277\n",
      "\n",
      "00:35:46\n",
      "0.9995298482680741\n",
      "\n",
      "415\n",
      "0.5403118133544922\n",
      "\n",
      ")(8濡(& ()\n",
      "2.450916382012057e-07\n",
      "\n",
      "山8*口\n",
      "3.564995267879567e-07\n",
      "\n",
      "(86圈=$\n",
      "3.539713109062351e-07\n",
      "\n",
      "/3(&\n",
      "2.087573375320062e-05\n",
      "\n",
      "07:55 ;為/;\n",
      "0.0005588362985974282\n",
      "\n",
      " [@\n",
      "1.8842713092412088e-05\n",
      "\n",
      "\n",
      "0.0\n",
      "\n",
      "9.\n",
      "0.2663522909792949\n",
      "\n"
     ]
    }
   ],
   "source": [
    "# Read image as traditinal chinese\n",
    "reader = easyocr.Reader(['ch_tra'], gpu=False)\n",
    "resultChTra = reader.readtext(IMAGE_PATH)\n",
    "resultSize = len(resultChTra)\n",
    "\n",
    "# Print the words and accuracy\n",
    "for i in range(resultSize):\n",
    "    print(resultChTra[i][1])\n",
    "    print(resultChTra[i][2])\n",
    "    print(\"\")"
   ]
  },
  {
   "cell_type": "code",
   "execution_count": 31,
   "metadata": {},
   "outputs": [
    {
     "name": "stdout",
     "output_type": "stream",
     "text": [
      "['12:00', 'Wed, 3/18/15', '139', 'Google', 'Running', '4,51', '00:35:46', '415', 'Distance (mi)', 'Duration', 'Calories', 'Pace', '07:55 min/mi', 'vaBle', '1', '9']\n"
     ]
    }
   ],
   "source": [
    "# Create list of final words\n",
    "finalWords = []\n",
    "\n",
    "for i in range(resultSize):\n",
    "    if (resultEng[i][2] > resultChSim[i][2] and resultEng[i][2] > resultChTra[i][2]):\n",
    "        finalWords.append(resultEng[i][1])\n",
    "    elif (resultChSim[i][2] > resultEng[i][2] and resultChSim[i][2] > resultChTra[i][2]):\n",
    "        finalWords.append(resultChSim[i][1])\n",
    "    elif (resultChTra[i][2] > resultEng[i][2] and resultChTra[i][2] > resultChSim[i][2]):\n",
    "        finalWords.append(resultChTra[i][1])\n",
    "        \n",
    "print(finalWords)"
   ]
  },
  {
   "cell_type": "code",
   "execution_count": null,
   "metadata": {},
   "outputs": [],
   "source": []
  }
 ],
 "metadata": {
  "kernelspec": {
   "display_name": "Python 3",
   "language": "python",
   "name": "python3"
  },
  "language_info": {
   "codemirror_mode": {
    "name": "ipython",
    "version": 3
   },
   "file_extension": ".py",
   "mimetype": "text/x-python",
   "name": "python",
   "nbconvert_exporter": "python",
   "pygments_lexer": "ipython3",
   "version": "3.8.5"
  }
 },
 "nbformat": 4,
 "nbformat_minor": 2
}
